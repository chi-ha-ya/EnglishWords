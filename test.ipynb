{
 "cells": [
  {
   "cell_type": "code",
   "execution_count": 1,
   "metadata": {},
   "outputs": [
    {
     "name": "stdout",
     "output_type": "stream",
     "text": [
      "36325\n"
     ]
    },
    {
     "ename": "",
     "evalue": "",
     "output_type": "error",
     "traceback": [
      "\u001b[1;31mThe Kernel crashed while executing code in the the current cell or a previous cell. Please review the code in the cell(s) to identify a possible cause of the failure. Click <a href='https://aka.ms/vscodeJupyterKernelCrash'>here</a> for more info. View Jupyter <a href='command:jupyter.viewOutput'>log</a> for further details."
     ]
    }
   ],
   "source": [
    "import os\n",
    "import csv\n",
    "import random\n",
    "from colorama import Fore, Style\n",
    "import re\n",
    "import pickle\n",
    "import pandas as pd\n",
    "import numpy as np\n",
    "import vocabulary\n",
    "\n",
    "\n",
    "if __name__ == \"__main__\":\n",
    "    # vocabulary.arrange_affixes()\n",
    "\n",
    "    words = read_words()\n",
    "    affixes = read_affixes()\n",
    "    en_ch = read_en_ch()\n",
    "    collins = create_collins_dict()\n",
    "\n",
    "    # junior = ~words['Junior'].isna()\n",
    "    # senior = ~words['Senior'].isna()\n",
    "    # basic = junior | senior\n",
    "    # cet4 = ~words['CET4'].isna()\n",
    "    # cet6 = ~words['CET6'].isna()\n",
    "    # gee = ~words['GEE'].isna()\n",
    "    # gre = ~words['GRE'].isna()\n",
    "    # sat = ~words['SAT'].isna()\n",
    "    # toefl = ~words['TOEFL'].isna()\n",
    "    # cet6_only = cet6 & ~cet4\n",
    "    # res = df[toefl & ~basic]\n",
    "    # res = df[basic & cet4 & cet6 & gee & gre & sat & toefl]\n",
    "    # res = words[words['word'].str.len() == 3]\n",
    "    # res.to_csv(path_list, index=False, encoding='utf-8-sig')\n",
    "    # collins = vocabulary.create_collins_dict()\n",
    "    # print(len(collins))\n"
   ]
  }
 ],
 "metadata": {
  "kernelspec": {
   "display_name": "Python 3",
   "language": "python",
   "name": "python3"
  },
  "language_info": {
   "codemirror_mode": {
    "name": "ipython",
    "version": 3
   },
   "file_extension": ".py",
   "mimetype": "text/x-python",
   "name": "python",
   "nbconvert_exporter": "python",
   "pygments_lexer": "ipython3",
   "version": "3.10.11"
  },
  "orig_nbformat": 4
 },
 "nbformat": 4,
 "nbformat_minor": 2
}
