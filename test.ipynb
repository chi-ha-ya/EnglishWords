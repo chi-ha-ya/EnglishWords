{
 "cells": [
  {
   "cell_type": "code",
   "execution_count": 3,
   "metadata": {},
   "outputs": [],
   "source": [
    "import os\n",
    "import csv\n",
    "import random\n",
    "from colorama import Fore, Style\n",
    "import re\n",
    "import pickle\n",
    "import pandas as pd\n",
    "import numpy as np\n",
    "from vocabulary import *\n",
    "\n",
    "\n",
    "if __name__ == \"__main__\":\n",
    "    # vocabulary.arrange_affixes()\n",
    "\n",
    "    words = read_words()\n",
    "    affixes = read_affixes()\n",
    "    en_ch = read_en_ch()\n",
    "    collins = create_collins_dict()\n",
    "\n",
    "    junior = ~words['Junior'].isna()\n",
    "    senior = ~words['Senior'].isna()\n",
    "    basic = junior | senior\n",
    "    cet4 = ~words['CET4'].isna()\n",
    "    cet6 = ~words['CET6'].isna()\n",
    "    gee = ~words['GEE'].isna()\n",
    "    gre = ~words['GRE'].isna()\n",
    "    sat = ~words['SAT'].isna()\n",
    "    toefl = ~words['TOEFL'].isna()\n",
    "    # cet6_only = cet6 & ~cet4\n",
    "\n",
    "    df_basic = words[basic]\n",
    "    df_cet4_6 = words[cet4 & cet6 & ~basic]\n",
    "    df_gee = words[gee & ~cet4 & ~cet6 & ~basic]\n",
    "    df_sat = words[sat & ~gee & ~cet4 & ~cet6 & ~basic]\n",
    "    df_toefl = words[toefl & ~sat & ~gee & ~cet4 & ~cet6 & ~basic]\n",
    "    df_gre = words[gre & ~toefl & ~sat & ~gee & ~cet4 & ~cet6 & ~basic]\n",
    "    # res = pd.concat([df_basic, df_cet4_6, df_gee, df_sat, df_toefl, df_gre])\n",
    "    # res = words[~basic & (cet4 | cet6 | gee)]\n",
    "    res = words[basic | (cet4 | cet6 | gee)]\n",
    "\n",
    "    # res = words[gre & toefl & ~cet4 & ~cet6 & ~basic]\n",
    "    # res = words[toefl & ~gee & ~cet4 & ~cet6 & ~basic]\n",
    "    # res = words[(gee | toefl) & ~cet4 & ~cet6 & ~basic]\n",
    "    # res = words[(gee | sat | toefl) & ~cet4 & ~cet6 & ~basic]\n",
    "    # res = words[basic & cet4 & cet6 & gee & gre & sat & toefl]\n",
    "    # res = words[basic | cet4 | cet6 | gee | sat | toefl]\n",
    "    # res = words[words['word'].str.len() == 3]\n",
    "    res = res[['word', 'mean']]\n",
    "    # res = res[['word']]\n",
    "    res.to_csv('test.csv', index=False, encoding='utf-8-sig')\n",
    "    # collins = vocabulary.create_collins_dict()\n",
    "    # print(len(collins))"
   ]
  }
 ],
 "metadata": {
  "kernelspec": {
   "display_name": "Python 3",
   "language": "python",
   "name": "python3"
  },
  "language_info": {
   "codemirror_mode": {
    "name": "ipython",
    "version": 3
   },
   "file_extension": ".py",
   "mimetype": "text/x-python",
   "name": "python",
   "nbconvert_exporter": "python",
   "pygments_lexer": "ipython3",
   "version": "3.10.11"
  },
  "orig_nbformat": 4
 },
 "nbformat": 4,
 "nbformat_minor": 2
}
